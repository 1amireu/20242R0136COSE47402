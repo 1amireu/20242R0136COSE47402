{
  "nbformat": 4,
  "nbformat_minor": 0,
  "metadata": {
    "colab": {
      "provenance": [],
      "gpuType": "T4"
    },
    "kernelspec": {
      "name": "python3",
      "display_name": "Python 3"
    },
    "language_info": {
      "name": "python"
    },
    "accelerator": "GPU"
  },
  "cells": [
    {
      "cell_type": "code",
      "source": [
        "!pip install git+https://github.com/openai/CLIP.git"
      ],
      "metadata": {
        "colab": {
          "base_uri": "https://localhost:8080/"
        },
        "id": "-wQNFjQvuZGa",
        "outputId": "8c8bcd18-bae3-4f7f-8729-856829475233"
      },
      "execution_count": 1,
      "outputs": [
        {
          "output_type": "stream",
          "name": "stdout",
          "text": [
            "Collecting git+https://github.com/openai/CLIP.git\n",
            "  Cloning https://github.com/openai/CLIP.git to /tmp/pip-req-build-uedgpnzc\n",
            "  Running command git clone --filter=blob:none --quiet https://github.com/openai/CLIP.git /tmp/pip-req-build-uedgpnzc\n",
            "  Resolved https://github.com/openai/CLIP.git to commit dcba3cb2e2827b402d2701e7e1c7d9fed8a20ef1\n",
            "  Preparing metadata (setup.py) ... \u001b[?25l\u001b[?25hdone\n",
            "Collecting ftfy (from clip==1.0)\n",
            "  Downloading ftfy-6.3.1-py3-none-any.whl.metadata (7.3 kB)\n",
            "Requirement already satisfied: packaging in /usr/local/lib/python3.10/dist-packages (from clip==1.0) (24.2)\n",
            "Requirement already satisfied: regex in /usr/local/lib/python3.10/dist-packages (from clip==1.0) (2024.9.11)\n",
            "Requirement already satisfied: tqdm in /usr/local/lib/python3.10/dist-packages (from clip==1.0) (4.66.6)\n",
            "Requirement already satisfied: torch in /usr/local/lib/python3.10/dist-packages (from clip==1.0) (2.5.1+cu121)\n",
            "Requirement already satisfied: torchvision in /usr/local/lib/python3.10/dist-packages (from clip==1.0) (0.20.1+cu121)\n",
            "Requirement already satisfied: wcwidth in /usr/local/lib/python3.10/dist-packages (from ftfy->clip==1.0) (0.2.13)\n",
            "Requirement already satisfied: filelock in /usr/local/lib/python3.10/dist-packages (from torch->clip==1.0) (3.16.1)\n",
            "Requirement already satisfied: typing-extensions>=4.8.0 in /usr/local/lib/python3.10/dist-packages (from torch->clip==1.0) (4.12.2)\n",
            "Requirement already satisfied: networkx in /usr/local/lib/python3.10/dist-packages (from torch->clip==1.0) (3.4.2)\n",
            "Requirement already satisfied: jinja2 in /usr/local/lib/python3.10/dist-packages (from torch->clip==1.0) (3.1.4)\n",
            "Requirement already satisfied: fsspec in /usr/local/lib/python3.10/dist-packages (from torch->clip==1.0) (2024.10.0)\n",
            "Requirement already satisfied: sympy==1.13.1 in /usr/local/lib/python3.10/dist-packages (from torch->clip==1.0) (1.13.1)\n",
            "Requirement already satisfied: mpmath<1.4,>=1.1.0 in /usr/local/lib/python3.10/dist-packages (from sympy==1.13.1->torch->clip==1.0) (1.3.0)\n",
            "Requirement already satisfied: numpy in /usr/local/lib/python3.10/dist-packages (from torchvision->clip==1.0) (1.26.4)\n",
            "Requirement already satisfied: pillow!=8.3.*,>=5.3.0 in /usr/local/lib/python3.10/dist-packages (from torchvision->clip==1.0) (11.0.0)\n",
            "Requirement already satisfied: MarkupSafe>=2.0 in /usr/local/lib/python3.10/dist-packages (from jinja2->torch->clip==1.0) (3.0.2)\n",
            "Downloading ftfy-6.3.1-py3-none-any.whl (44 kB)\n",
            "\u001b[2K   \u001b[90m━━━━━━━━━━━━━━━━━━━━━━━━━━━━━━━━━━━━━━━━\u001b[0m \u001b[32m44.8/44.8 kB\u001b[0m \u001b[31m2.1 MB/s\u001b[0m eta \u001b[36m0:00:00\u001b[0m\n",
            "\u001b[?25hBuilding wheels for collected packages: clip\n",
            "  Building wheel for clip (setup.py) ... \u001b[?25l\u001b[?25hdone\n",
            "  Created wheel for clip: filename=clip-1.0-py3-none-any.whl size=1369489 sha256=c13d1a1b575a8896b37b0db5422d21d78e2afdcc28c0cb7f2d4d95661438969b\n",
            "  Stored in directory: /tmp/pip-ephem-wheel-cache-dtipbvtc/wheels/da/2b/4c/d6691fa9597aac8bb85d2ac13b112deb897d5b50f5ad9a37e4\n",
            "Successfully built clip\n",
            "Installing collected packages: ftfy, clip\n",
            "Successfully installed clip-1.0 ftfy-6.3.1\n"
          ]
        }
      ]
    },
    {
      "cell_type": "code",
      "source": [
        "!pip install torchvision"
      ],
      "metadata": {
        "colab": {
          "base_uri": "https://localhost:8080/"
        },
        "id": "fQcKSXiaCxzb",
        "outputId": "0283df56-fa80-4d40-db85-4d39911ac276"
      },
      "execution_count": 2,
      "outputs": [
        {
          "output_type": "stream",
          "name": "stdout",
          "text": [
            "Requirement already satisfied: torchvision in /usr/local/lib/python3.10/dist-packages (0.20.1+cu121)\n",
            "Requirement already satisfied: numpy in /usr/local/lib/python3.10/dist-packages (from torchvision) (1.26.4)\n",
            "Requirement already satisfied: torch==2.5.1 in /usr/local/lib/python3.10/dist-packages (from torchvision) (2.5.1+cu121)\n",
            "Requirement already satisfied: pillow!=8.3.*,>=5.3.0 in /usr/local/lib/python3.10/dist-packages (from torchvision) (11.0.0)\n",
            "Requirement already satisfied: filelock in /usr/local/lib/python3.10/dist-packages (from torch==2.5.1->torchvision) (3.16.1)\n",
            "Requirement already satisfied: typing-extensions>=4.8.0 in /usr/local/lib/python3.10/dist-packages (from torch==2.5.1->torchvision) (4.12.2)\n",
            "Requirement already satisfied: networkx in /usr/local/lib/python3.10/dist-packages (from torch==2.5.1->torchvision) (3.4.2)\n",
            "Requirement already satisfied: jinja2 in /usr/local/lib/python3.10/dist-packages (from torch==2.5.1->torchvision) (3.1.4)\n",
            "Requirement already satisfied: fsspec in /usr/local/lib/python3.10/dist-packages (from torch==2.5.1->torchvision) (2024.10.0)\n",
            "Requirement already satisfied: sympy==1.13.1 in /usr/local/lib/python3.10/dist-packages (from torch==2.5.1->torchvision) (1.13.1)\n",
            "Requirement already satisfied: mpmath<1.4,>=1.1.0 in /usr/local/lib/python3.10/dist-packages (from sympy==1.13.1->torch==2.5.1->torchvision) (1.3.0)\n",
            "Requirement already satisfied: MarkupSafe>=2.0 in /usr/local/lib/python3.10/dist-packages (from jinja2->torch==2.5.1->torchvision) (3.0.2)\n"
          ]
        }
      ]
    },
    {
      "cell_type": "code",
      "source": [
        "from google.colab import drive\n",
        "drive.mount('/content/drive')\n",
        "\n",
        "base_path = \"/content/drive/My Drive/Final Project DL/images/\""
      ],
      "metadata": {
        "colab": {
          "base_uri": "https://localhost:8080/"
        },
        "id": "iuNWPpCfwOMS",
        "outputId": "778a8969-1c7c-4394-8801-609f22191bb6"
      },
      "execution_count": 3,
      "outputs": [
        {
          "output_type": "stream",
          "name": "stdout",
          "text": [
            "Mounted at /content/drive\n"
          ]
        }
      ]
    },
    {
      "cell_type": "code",
      "execution_count": 8,
      "metadata": {
        "id": "9tjcAvUAoQrA"
      },
      "outputs": [],
      "source": [
        "import torch\n",
        "import clip\n",
        "from torchvision.datasets import Food101\n",
        "from torchvision import transforms\n",
        "from torch.utils.data import DataLoader\n",
        "from sklearn.metrics.pairwise import cosine_similarity\n",
        "\n",
        "# Load CLIP Model\n",
        "def load_clip_model(device='cpu', backbone='ViT-B/16'):\n",
        "    clip_model, preprocess = clip.load(backbone, device=device)\n",
        "    return clip_model, preprocess\n",
        "\n",
        "# Process Image with CLIP\n",
        "def process_image_with_clip(image_path, clip_model, preprocess, device='cpu'):\n",
        "    from PIL import Image\n",
        "    image = Image.open(image_path)\n",
        "    image_input = preprocess(image).unsqueeze(0).to(device)  # Move image tensor to the device\n",
        "\n",
        "    # Extract image features using CLIP\n",
        "    with torch.no_grad():\n",
        "        image_features = clip_model.encode_image(image_input)\n",
        "    return image_features\n",
        "\n",
        "# Load Food-101 Dataset\n",
        "def load_food101_dataset(batch_size=1, root='/content/food101', device='cpu'):\n",
        "    transform = transforms.Compose([\n",
        "        transforms.Resize((224, 224)),  # Resize to CLIP's input size\n",
        "        transforms.ToTensor(),         # Convert to tensor\n",
        "        transforms.Normalize(mean=(0.5, 0.5, 0.5), std=(0.5, 0.5, 0.5))  # Normalize to [-1, 1]\n",
        "    ])\n",
        "\n",
        "    dataset = Food101(root=root, split='train', transform=transform, download=True)\n",
        "    data_loader = DataLoader(dataset, batch_size=batch_size, shuffle=True)\n",
        "    return dataset, data_loader\n",
        "\n",
        "# Match Image with Food Classes using CLIP\n",
        "def predict_food_class(image_features, clip_model, dataset, device='cpu'):\n",
        "    # Encode the food class names using CLIP (text features)\n",
        "    class_names = dataset.classes\n",
        "    text_inputs = torch.cat([clip.tokenize(class_name) for class_name in class_names]).to(device)\n",
        "\n",
        "    # Extract text features using CLIP\n",
        "    with torch.no_grad():\n",
        "        text_features = clip_model.encode_text(text_inputs)\n",
        "\n",
        "    # Compute cosine similarity between image features and text features\n",
        "    similarity = cosine_similarity(image_features.cpu().numpy(), text_features.cpu().numpy())\n",
        "\n",
        "    # Get the index of the class with the highest similarity\n",
        "    predicted_class_index = similarity.argmax()\n",
        "    predicted_class_name = class_names[predicted_class_index]\n",
        "    return predicted_class_name\n",
        "\n",
        "# Main Function to Process an Image and Predict the Food Name\n",
        "def main(image_path, clip_model, preprocess, dataset, device='cpu'):\n",
        "    # Process image to extract features\n",
        "    image_features = process_image_with_clip(image_path, clip_model, preprocess, device)\n",
        "\n",
        "    # Predict the food class\n",
        "    predicted_food_class = predict_food_class(image_features, clip_model, dataset, device)\n",
        "    return predicted_food_class\n"
      ]
    },
    {
      "cell_type": "code",
      "source": [
        "# Example Usage\n",
        "device = \"cuda\" if torch.cuda.is_available() else \"cpu\"\n",
        "clip_model, preprocess = load_clip_model(device)\n",
        "dataset, data_loader = load_food101_dataset(batch_size=1, root='/content/food101', device=device)\n",
        "\n",
        "# Use a sample image from the Food-101 dataset (for example)\n",
        "image_path = '/content/food101/food-101/images/baby_back_ribs/1005066.jpg'  # Replace with your image path\n",
        "predicted_food_name = main(image_path, clip_model, preprocess, dataset, device)\n",
        "\n",
        "print(f\"Predicted Food Name: {predicted_food_name}\")"
      ],
      "metadata": {
        "colab": {
          "base_uri": "https://localhost:8080/"
        },
        "id": "vMSO-bfeJOMo",
        "outputId": "df5c02c7-1fce-41f8-a628-ef5d5efbfd33"
      },
      "execution_count": 9,
      "outputs": [
        {
          "output_type": "stream",
          "name": "stdout",
          "text": [
            "Predicted Food Name: baby_back_ribs\n"
          ]
        }
      ]
    }
  ]
}